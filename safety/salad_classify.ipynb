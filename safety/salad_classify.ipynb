{
 "cells": [
  {
   "cell_type": "code",
   "execution_count": 1,
   "id": "1f6ce3ef-3cf1-44d9-bc5e-8d27b03764a6",
   "metadata": {},
   "outputs": [],
   "source": [
    "from datasets import load_dataset, Dataset\n",
    "from vllm import LLM, SamplingParams"
   ]
  },
  {
   "cell_type": "code",
   "execution_count": 2,
   "id": "f026c1c0-2643-4814-837b-a26c1a8c297c",
   "metadata": {},
   "outputs": [],
   "source": [
    "NUM_GPUS = 4\n",
    "BATCH_SIZE = 8192"
   ]
  },
  {
   "cell_type": "code",
   "execution_count": 4,
   "id": "62ff3ecf-9300-4f58-b684-393d57ac5180",
   "metadata": {},
   "outputs": [
    {
     "data": {
      "text/plain": [
       "Dataset({\n",
       "    features: ['3-category', 'question', 'qid', 'source', '2-category', '1-category', 'metallama', 'metallama_grading', 'metallama_score', 'wildeweb'],\n",
       "    num_rows: 5000\n",
       "})"
      ]
     },
     "execution_count": 4,
     "metadata": {},
     "output_type": "execute_result"
    }
   ],
   "source": [
    "ds = load_dataset('amang1802/wildeweb-sample-salad_5K', split='train')\n",
    "ds"
   ]
  },
  {
   "cell_type": "code",
   "execution_count": 5,
   "id": "baf3381d-8a61-4542-a5da-524a544ae2bb",
   "metadata": {},
   "outputs": [],
   "source": [
    "model_id = \"meta-llama/Llama-Guard-3-8B\""
   ]
  },
  {
   "cell_type": "code",
   "execution_count": 6,
   "id": "20c100e8-bd67-496d-accd-670627fb6175",
   "metadata": {},
   "outputs": [
    {
     "name": "stdout",
     "output_type": "stream",
     "text": [
      "INFO 01-21 02:17:49 config.py:905] Defaulting to use mp for distributed inference\n",
      "INFO 01-21 02:17:49 llm_engine.py:237] Initializing an LLM engine (v0.6.3.post1) with config: model='meta-llama/Llama-Guard-3-8B', speculative_config=None, tokenizer='meta-llama/Llama-Guard-3-8B', skip_tokenizer_init=False, tokenizer_mode=auto, revision=None, override_neuron_config=None, rope_scaling=None, rope_theta=None, tokenizer_revision=None, trust_remote_code=False, dtype=torch.bfloat16, max_seq_len=512, download_dir=None, load_format=LoadFormat.AUTO, tensor_parallel_size=4, pipeline_parallel_size=1, disable_custom_all_reduce=False, quantization=None, enforce_eager=False, kv_cache_dtype=auto, quantization_param_path=None, device_config=cuda, decoding_config=DecodingConfig(guided_decoding_backend='outlines'), observability_config=ObservabilityConfig(otlp_traces_endpoint=None, collect_model_forward_time=False, collect_model_execute_time=False), seed=0, served_model_name=meta-llama/Llama-Guard-3-8B, num_scheduler_steps=1, chunked_prefill_enabled=False multi_step_stream_outputs=True, enable_prefix_caching=False, use_async_output_proc=True, use_cached_outputs=False, mm_processor_kwargs=None)\n",
      "WARNING 01-21 02:17:50 multiproc_gpu_executor.py:53] Reducing Torch parallelism from 64 threads to 1 to avoid unnecessary CPU contention. Set OMP_NUM_THREADS in the external environment to tune this value as needed.\n",
      "INFO 01-21 02:17:50 custom_cache_manager.py:17] Setting Triton cache manager to: vllm.triton_utils.custom_cache_manager:CustomCacheManager\n",
      "\u001b[1;36m(VllmWorkerProcess pid=65041)\u001b[0;0m INFO 01-21 02:17:50 multiproc_worker_utils.py:215] Worker ready; awaiting tasks\n",
      "\u001b[1;36m(VllmWorkerProcess pid=65042)\u001b[0;0m \u001b[1;36m(VllmWorkerProcess pid=65043)\u001b[0;0m INFO 01-21 02:17:50 multiproc_worker_utils.py:215] Worker ready; awaiting tasks\n",
      "INFO 01-21 02:17:50 multiproc_worker_utils.py:215] Worker ready; awaiting tasks\n",
      "INFO 01-21 02:17:54 utils.py:1008] Found nccl from library libnccl.so.2\n",
      "INFO 01-21 02:17:54 pynccl.py:63] vLLM is using nccl==2.20.5\n",
      "\u001b[1;36m(VllmWorkerProcess pid=65043)\u001b[0;0m \u001b[1;36m(VllmWorkerProcess pid=65042)\u001b[0;0m \u001b[1;36m(VllmWorkerProcess pid=65041)\u001b[0;0m INFO 01-21 02:17:54 utils.py:1008] Found nccl from library libnccl.so.2\n",
      "INFO 01-21 02:17:54 utils.py:1008] Found nccl from library libnccl.so.2\n",
      "INFO 01-21 02:17:54 utils.py:1008] Found nccl from library libnccl.so.2\n",
      "\u001b[1;36m(VllmWorkerProcess pid=65042)\u001b[0;0m \u001b[1;36m(VllmWorkerProcess pid=65041)\u001b[0;0m \u001b[1;36m(VllmWorkerProcess pid=65043)\u001b[0;0m INFO 01-21 02:17:54 pynccl.py:63] vLLM is using nccl==2.20.5\n",
      "INFO 01-21 02:17:54 pynccl.py:63] vLLM is using nccl==2.20.5\n",
      "INFO 01-21 02:17:54 pynccl.py:63] vLLM is using nccl==2.20.5\n",
      "INFO 01-21 02:17:56 custom_all_reduce_utils.py:242] reading GPU P2P access cache from /root/.cache/vllm/gpu_p2p_access_cache_for_0,1,2,3.json\n",
      "\u001b[1;36m(VllmWorkerProcess pid=65042)\u001b[0;0m \u001b[1;36m(VllmWorkerProcess pid=65041)\u001b[0;0m \u001b[1;36m(VllmWorkerProcess pid=65043)\u001b[0;0m INFO 01-21 02:17:56 custom_all_reduce_utils.py:242] reading GPU P2P access cache from /root/.cache/vllm/gpu_p2p_access_cache_for_0,1,2,3.json\n",
      "INFO 01-21 02:17:56 custom_all_reduce_utils.py:242] reading GPU P2P access cache from /root/.cache/vllm/gpu_p2p_access_cache_for_0,1,2,3.json\n",
      "INFO 01-21 02:17:56 custom_all_reduce_utils.py:242] reading GPU P2P access cache from /root/.cache/vllm/gpu_p2p_access_cache_for_0,1,2,3.json\n",
      "INFO 01-21 02:17:56 shm_broadcast.py:241] vLLM message queue communication handle: Handle(connect_ip='127.0.0.1', local_reader_ranks=[1, 2, 3], buffer=<vllm.distributed.device_communicators.shm_broadcast.ShmRingBuffer object at 0x7ab374a81360>, local_subscribe_port=41907, remote_subscribe_port=None)\n",
      "INFO 01-21 02:17:56 model_runner.py:1056] Starting to load model meta-llama/Llama-Guard-3-8B...\n",
      "\u001b[1;36m(VllmWorkerProcess pid=65043)\u001b[0;0m \u001b[1;36m(VllmWorkerProcess pid=65042)\u001b[0;0m \u001b[1;36m(VllmWorkerProcess pid=65041)\u001b[0;0m INFO 01-21 02:17:56 model_runner.py:1056] Starting to load model meta-llama/Llama-Guard-3-8B...\n",
      "INFO 01-21 02:17:56 model_runner.py:1056] Starting to load model meta-llama/Llama-Guard-3-8B...\n",
      "INFO 01-21 02:17:56 model_runner.py:1056] Starting to load model meta-llama/Llama-Guard-3-8B...\n",
      "INFO 01-21 02:17:57 weight_utils.py:243] Using model weights format ['*.safetensors']\n",
      "\u001b[1;36m(VllmWorkerProcess pid=65042)\u001b[0;0m INFO 01-21 02:17:57 weight_utils.py:243] Using model weights format ['*.safetensors']\n",
      "\u001b[1;36m(VllmWorkerProcess pid=65043)\u001b[0;0m INFO 01-21 02:17:57 weight_utils.py:243] Using model weights format ['*.safetensors']\n",
      "\u001b[1;36m(VllmWorkerProcess pid=65041)\u001b[0;0m INFO 01-21 02:17:57 weight_utils.py:243] Using model weights format ['*.safetensors']\n"
     ]
    },
    {
     "data": {
      "application/vnd.jupyter.widget-view+json": {
       "model_id": "dc9255bee57349bf8c647528e0fdd3c2",
       "version_major": 2,
       "version_minor": 0
      },
      "text/plain": [
       "Loading safetensors checkpoint shards:   0% Completed | 0/4 [00:00<?, ?it/s]\n"
      ]
     },
     "metadata": {},
     "output_type": "display_data"
    },
    {
     "name": "stdout",
     "output_type": "stream",
     "text": [
      "INFO 01-21 02:17:58 model_runner.py:1067] Loading model weights took 3.7710 GB\n",
      "\u001b[1;36m(VllmWorkerProcess pid=65042)\u001b[0;0m INFO 01-21 02:17:58 model_runner.py:1067] Loading model weights took 3.7710 GB\n",
      "\u001b[1;36m(VllmWorkerProcess pid=65041)\u001b[0;0m INFO 01-21 02:17:58 model_runner.py:1067] Loading model weights took 3.7710 GB\n",
      "\u001b[1;36m(VllmWorkerProcess pid=65043)\u001b[0;0m INFO 01-21 02:17:58 model_runner.py:1067] Loading model weights took 3.7710 GB\n",
      "INFO 01-21 02:18:00 distributed_gpu_executor.py:57] # GPU blocks: 257880, # CPU blocks: 8192\n",
      "INFO 01-21 02:18:00 distributed_gpu_executor.py:61] Maximum concurrency for 512 tokens per request: 8058.75x\n",
      "\u001b[1;36m(VllmWorkerProcess pid=65041)\u001b[0;0m INFO 01-21 02:18:03 model_runner.py:1395] Capturing the model for CUDA graphs. This may lead to unexpected consequences if the model is not static. To run the model in eager mode, set 'enforce_eager=True' or use '--enforce-eager' in the CLI.\n",
      "\u001b[1;36m(VllmWorkerProcess pid=65041)\u001b[0;0m INFO 01-21 02:18:03 model_runner.py:1399] CUDA graphs can take additional 1~3 GiB memory per GPU. If you are running out of memory, consider decreasing `gpu_memory_utilization` or enforcing eager mode. You can also reduce the `max_num_seqs` as needed to decrease memory usage.\n",
      "\u001b[1;36m(VllmWorkerProcess pid=65043)\u001b[0;0m \u001b[1;36m(VllmWorkerProcess pid=65042)\u001b[0;0m INFO 01-21 02:18:03 model_runner.py:1395] Capturing the model for CUDA graphs. This may lead to unexpected consequences if the model is not static. To run the model in eager mode, set 'enforce_eager=True' or use '--enforce-eager' in the CLI.\n",
      "INFO 01-21 02:18:03 model_runner.py:1395] Capturing the model for CUDA graphs. This may lead to unexpected consequences if the model is not static. To run the model in eager mode, set 'enforce_eager=True' or use '--enforce-eager' in the CLI.\n",
      "\u001b[1;36m(VllmWorkerProcess pid=65043)\u001b[0;0m \u001b[1;36m(VllmWorkerProcess pid=65042)\u001b[0;0m INFO 01-21 02:18:03 model_runner.py:1399] CUDA graphs can take additional 1~3 GiB memory per GPU. If you are running out of memory, consider decreasing `gpu_memory_utilization` or enforcing eager mode. You can also reduce the `max_num_seqs` as needed to decrease memory usage.\n",
      "INFO 01-21 02:18:03 model_runner.py:1399] CUDA graphs can take additional 1~3 GiB memory per GPU. If you are running out of memory, consider decreasing `gpu_memory_utilization` or enforcing eager mode. You can also reduce the `max_num_seqs` as needed to decrease memory usage.\n",
      "INFO 01-21 02:18:03 model_runner.py:1395] Capturing the model for CUDA graphs. This may lead to unexpected consequences if the model is not static. To run the model in eager mode, set 'enforce_eager=True' or use '--enforce-eager' in the CLI.\n",
      "INFO 01-21 02:18:03 model_runner.py:1399] CUDA graphs can take additional 1~3 GiB memory per GPU. If you are running out of memory, consider decreasing `gpu_memory_utilization` or enforcing eager mode. You can also reduce the `max_num_seqs` as needed to decrease memory usage.\n",
      "INFO 01-21 02:18:19 custom_all_reduce.py:233] Registering 2275 cuda graph addresses\n",
      "\u001b[1;36m(VllmWorkerProcess pid=65043)\u001b[0;0m \u001b[1;36m(VllmWorkerProcess pid=65042)\u001b[0;0m \u001b[1;36m(VllmWorkerProcess pid=65041)\u001b[0;0m INFO 01-21 02:18:19 custom_all_reduce.py:233] Registering 2275 cuda graph addresses\n",
      "INFO 01-21 02:18:19 custom_all_reduce.py:233] Registering 2275 cuda graph addresses\n",
      "INFO 01-21 02:18:19 custom_all_reduce.py:233] Registering 2275 cuda graph addresses\n",
      "\u001b[1;36m(VllmWorkerProcess pid=65042)\u001b[0;0m INFO 01-21 02:18:19 model_runner.py:1523] Graph capturing finished in 16 secs.\n",
      "INFO 01-21 02:18:19 model_runner.py:1523] Graph capturing finished in 16 secs.\n",
      "\u001b[1;36m(VllmWorkerProcess pid=65041)\u001b[0;0m INFO 01-21 02:18:19 model_runner.py:1523] Graph capturing finished in 16 secs.\n",
      "\u001b[1;36m(VllmWorkerProcess pid=65043)\u001b[0;0m INFO 01-21 02:18:19 model_runner.py:1523] Graph capturing finished in 16 secs.\n"
     ]
    }
   ],
   "source": [
    "llm = LLM(model=model_id, max_model_len=512, tensor_parallel_size=NUM_GPUS, gpu_memory_utilization=0.98)"
   ]
  },
  {
   "cell_type": "code",
   "execution_count": 8,
   "id": "a7334d31-78ee-4833-8465-ee78fec1eccf",
   "metadata": {},
   "outputs": [],
   "source": [
    "def score(guard_response):\n",
    "    return 0 if \"unsafe\" in guard_response.lower() else 1"
   ]
  },
  {
   "cell_type": "code",
   "execution_count": 9,
   "id": "bc3c67ba-556d-4dc3-93aa-38f9820baad5",
   "metadata": {},
   "outputs": [],
   "source": [
    "def classify(questions, answers, column_name):    \n",
    "    messages = [[{\"role\": \"user\", \"content\": question},\n",
    "                {\"role\": \"assistant\", \"content\": answer}] for question, answer in zip(questions, answers)]\n",
    "    outputs = llm.chat(messages, SamplingParams(temperature=0.1, top_p=0.9, max_tokens=256))\n",
    "    responses = [output.outputs[0].text.strip() for output in outputs]\n",
    "    scores = [score(response) for response in responses]\n",
    "    return {f\"{column_name}_grading\": responses, f\"{column_name}_score\": scores}"
   ]
  },
  {
   "cell_type": "code",
   "execution_count": 10,
   "id": "efffe557-02e1-48bd-8f54-214781027b87",
   "metadata": {},
   "outputs": [
    {
     "name": "stderr",
     "output_type": "stream",
     "text": [
      "Parameter 'function'=<function <lambda> at 0x7ab304e7b760> of the transform datasets.arrow_dataset.Dataset._map_single couldn't be hashed properly, a random hash was used instead. Make sure your transforms and parameters are serializable with pickle or dill for the dataset fingerprinting and caching to work. If you reuse this transform, the caching mechanism will consider it to be different from the previous calls and recompute everything. This warning is only showed once. Subsequent hashing failures won't be showed.\n"
     ]
    },
    {
     "data": {
      "application/vnd.jupyter.widget-view+json": {
       "model_id": "46d1dcd2d6ad40259223caff383e91c9",
       "version_major": 2,
       "version_minor": 0
      },
      "text/plain": [
       "Map:   0%|          | 0/5000 [00:00<?, ? examples/s]"
      ]
     },
     "metadata": {},
     "output_type": "display_data"
    },
    {
     "name": "stderr",
     "output_type": "stream",
     "text": [
      "\n",
      "\u001b[Acessed prompts:   0% 0/5000 [00:00<?, ?it/s, est. speed input: 0.00 toks/s, output: 0.00 toks/s]\n",
      "\u001b[Acessed prompts:   0% 1/5000 [00:01<2:11:44,  1.58s/it, est. speed input: 194.17 toks/s, output: 1.90 toks/s]\n",
      "\u001b[Acessed prompts:   1% 72/5000 [00:01<01:42, 47.85it/s, est. speed input: 14037.83 toks/s, output: 111.00 toks/s]\n",
      "\u001b[Acessed prompts:   5% 269/5000 [00:02<00:39, 120.41it/s, est. speed input: 33476.30 toks/s, output: 458.55 toks/s]\n",
      "\u001b[Acessed prompts:   8% 406/5000 [00:03<00:32, 141.52it/s, est. speed input: 41239.59 toks/s, output: 523.51 toks/s]\n",
      "\u001b[Acessed prompts:  12% 618/5000 [00:04<00:27, 161.50it/s, est. speed input: 47861.27 toks/s, output: 606.99 toks/s]\n",
      "\u001b[Acessed prompts:  16% 786/5000 [00:05<00:24, 169.12it/s, est. speed input: 51977.26 toks/s, output: 621.54 toks/s]\n",
      "\u001b[Acessed prompts:  20% 986/5000 [00:06<00:22, 176.25it/s, est. speed input: 55607.39 toks/s, output: 651.97 toks/s]\n",
      "\u001b[Acessed prompts:  23% 1173/5000 [00:07<00:22, 172.08it/s, est. speed input: 56941.68 toks/s, output: 650.38 toks/s]\n",
      "\u001b[Acessed prompts:  27% 1349/5000 [00:08<00:20, 176.95it/s, est. speed input: 58826.90 toks/s, output: 664.85 toks/s]\n",
      "\u001b[Acessed prompts:  31% 1550/5000 [00:10<00:19, 177.69it/s, est. speed input: 60188.50 toks/s, output: 674.55 toks/s]\n",
      "\u001b[Acessed prompts:  35% 1727/5000 [00:10<00:18, 180.28it/s, est. speed input: 61377.48 toks/s, output: 679.71 toks/s]\n",
      "\u001b[Acessed prompts:  39% 1928/5000 [00:11<00:16, 185.94it/s, est. speed input: 62875.49 toks/s, output: 692.49 toks/s]\n",
      "\u001b[Acessed prompts:  42% 2112/5000 [00:12<00:15, 186.07it/s, est. speed input: 63447.98 toks/s, output: 695.06 toks/s]\n",
      "\u001b[Acessed prompts:  46% 2298/5000 [00:13<00:14, 185.12it/s, est. speed input: 64015.17 toks/s, output: 699.88 toks/s]\n",
      "\u001b[Acessed prompts:  50% 2489/5000 [00:14<00:13, 185.50it/s, est. speed input: 64736.78 toks/s, output: 704.27 toks/s]\n",
      "\u001b[Acessed prompts:  53% 2674/5000 [00:16<00:12, 185.23it/s, est. speed input: 65296.45 toks/s, output: 707.02 toks/s]\n",
      "\u001b[Acessed prompts:  57% 2867/5000 [00:17<00:11, 185.96it/s, est. speed input: 65893.23 toks/s, output: 710.83 toks/s]\n",
      "\u001b[Acessed prompts:  61% 3058/5000 [00:18<00:10, 185.77it/s, est. speed input: 66330.92 toks/s, output: 712.46 toks/s]\n",
      "\u001b[Acessed prompts:  65% 3254/5000 [00:19<00:09, 186.78it/s, est. speed input: 66848.60 toks/s, output: 714.79 toks/s]\n",
      "\u001b[Acessed prompts:  69% 3433/5000 [00:20<00:08, 185.77it/s, est. speed input: 67121.55 toks/s, output: 715.73 toks/s]\n",
      "\u001b[Acessed prompts:  72% 3618/5000 [00:21<00:07, 186.49it/s, est. speed input: 67449.59 toks/s, output: 719.65 toks/s]\n",
      "\u001b[Acessed prompts:  76% 3804/5000 [00:22<00:06, 187.80it/s, est. speed input: 67763.07 toks/s, output: 722.83 toks/s]\n",
      "\u001b[Acessed prompts:  80% 3996/5000 [00:23<00:05, 188.05it/s, est. speed input: 68026.58 toks/s, output: 725.01 toks/s]\n",
      "\u001b[Acessed prompts:  84% 4180/5000 [00:24<00:04, 187.51it/s, est. speed input: 68206.95 toks/s, output: 726.16 toks/s]\n",
      "\u001b[Acessed prompts:  87% 4370/5000 [00:25<00:03, 187.67it/s, est. speed input: 68513.11 toks/s, output: 728.25 toks/s]\n",
      "\u001b[Acessed prompts:  91% 4557/5000 [00:26<00:02, 188.52it/s, est. speed input: 68759.40 toks/s, output: 729.95 toks/s]\n",
      "Processed prompts: 100% 5000/5000 [00:27<00:00, 184.76it/s, est. speed input: 72603.99 toks/s, output: 771.01 toks/s]\n"
     ]
    }
   ],
   "source": [
    "ds_graded = ds.map(lambda prompts, completions: classify(prompts, completions, \"wildeweb\"), input_columns=['question', 'wildeweb'], batched=True, batch_size=BATCH_SIZE)"
   ]
  },
  {
   "cell_type": "code",
   "execution_count": 11,
   "id": "903a131d-8e16-47ec-941e-ef942553ae29",
   "metadata": {},
   "outputs": [
    {
     "data": {
      "text/plain": [
       "Dataset({\n",
       "    features: ['3-category', 'question', 'qid', 'source', '2-category', '1-category', 'metallama', 'metallama_grading', 'metallama_score', 'wildeweb', 'wildeweb_grading', 'wildeweb_score'],\n",
       "    num_rows: 5000\n",
       "})"
      ]
     },
     "execution_count": 11,
     "metadata": {},
     "output_type": "execute_result"
    }
   ],
   "source": [
    "ds_graded"
   ]
  },
  {
   "cell_type": "code",
   "execution_count": 13,
   "id": "1adeb9b7-956c-4e04-8beb-f910bbbfe76c",
   "metadata": {},
   "outputs": [
    {
     "data": {
      "application/vnd.jupyter.widget-view+json": {
       "model_id": "ee84a5e9b316484287a2ae7481e32df5",
       "version_major": 2,
       "version_minor": 0
      },
      "text/plain": [
       "Filter:   0%|          | 0/5000 [00:00<?, ? examples/s]"
      ]
     },
     "metadata": {},
     "output_type": "display_data"
    },
    {
     "data": {
      "text/plain": [
       "Dataset({\n",
       "    features: ['3-category', 'question', 'qid', 'source', '2-category', '1-category', 'metallama', 'metallama_grading', 'metallama_score', 'wildeweb', 'wildeweb_grading', 'wildeweb_score'],\n",
       "    num_rows: 2130\n",
       "})"
      ]
     },
     "execution_count": 13,
     "metadata": {},
     "output_type": "execute_result"
    }
   ],
   "source": [
    "unsafe_metallama = ds_graded.filter(lambda row: row['metallama_score'] == 0)\n",
    "unsafe_metallama"
   ]
  },
  {
   "cell_type": "code",
   "execution_count": 14,
   "id": "93cb6464-c503-4a7f-b601-bdf82e109f9b",
   "metadata": {},
   "outputs": [
    {
     "data": {
      "application/vnd.jupyter.widget-view+json": {
       "model_id": "90d51c540648458e86d3326c7fd33692",
       "version_major": 2,
       "version_minor": 0
      },
      "text/plain": [
       "Filter:   0%|          | 0/5000 [00:00<?, ? examples/s]"
      ]
     },
     "metadata": {},
     "output_type": "display_data"
    },
    {
     "data": {
      "text/plain": [
       "Dataset({\n",
       "    features: ['3-category', 'question', 'qid', 'source', '2-category', '1-category', 'metallama', 'metallama_grading', 'metallama_score', 'wildeweb', 'wildeweb_grading', 'wildeweb_score'],\n",
       "    num_rows: 1955\n",
       "})"
      ]
     },
     "execution_count": 14,
     "metadata": {},
     "output_type": "execute_result"
    }
   ],
   "source": [
    "unsafe_wildeweb = ds_graded.filter(lambda row: row['wildeweb_score'] == 0)\n",
    "unsafe_wildeweb"
   ]
  },
  {
   "cell_type": "code",
   "execution_count": 16,
   "id": "a5946109-805e-45b2-9e08-0ca8d15f193e",
   "metadata": {},
   "outputs": [
    {
     "data": {
      "text/plain": [
       "(0.5740000000000001, 0.609)"
      ]
     },
     "execution_count": 16,
     "metadata": {},
     "output_type": "execute_result"
    }
   ],
   "source": [
    "(1-unsafe_metallama.num_rows/5000), (1-unsafe_wildeweb.num_rows/5000)"
   ]
  },
  {
   "cell_type": "code",
   "execution_count": 12,
   "id": "1df8000a-372e-4f17-8620-fa974ee0028f",
   "metadata": {},
   "outputs": [
    {
     "data": {
      "application/vnd.jupyter.widget-view+json": {
       "model_id": "83a370d2a5804d3c98e2c7b465bfa04f",
       "version_major": 2,
       "version_minor": 0
      },
      "text/plain": [
       "Uploading the dataset shards:   0%|          | 0/1 [00:00<?, ?it/s]"
      ]
     },
     "metadata": {},
     "output_type": "display_data"
    },
    {
     "data": {
      "application/vnd.jupyter.widget-view+json": {
       "model_id": "9ad6f8c619654f79a44f90a43879c49a",
       "version_major": 2,
       "version_minor": 0
      },
      "text/plain": [
       "Creating parquet from Arrow format:   0%|          | 0/5 [00:00<?, ?ba/s]"
      ]
     },
     "metadata": {},
     "output_type": "display_data"
    },
    {
     "data": {
      "application/vnd.jupyter.widget-view+json": {
       "model_id": "7c8a590cb26447a19005129c849da6ec",
       "version_major": 2,
       "version_minor": 0
      },
      "text/plain": [
       "  0%|          | 0/1 [00:00<?, ?it/s]"
      ]
     },
     "metadata": {},
     "output_type": "display_data"
    },
    {
     "data": {
      "text/plain": [
       "CommitInfo(commit_url='https://huggingface.co/datasets/amang1802/wildeweb-sample-salad_5K/commit/c6210bfdff2662953e4e1a26780e2368990fa80f', commit_message='Upload dataset', commit_description='', oid='c6210bfdff2662953e4e1a26780e2368990fa80f', pr_url=None, repo_url=RepoUrl('https://huggingface.co/datasets/amang1802/wildeweb-sample-salad_5K', endpoint='https://huggingface.co', repo_type='dataset', repo_id='amang1802/wildeweb-sample-salad_5K'), pr_revision=None, pr_num=None)"
      ]
     },
     "execution_count": 12,
     "metadata": {},
     "output_type": "execute_result"
    }
   ],
   "source": [
    "ds_graded.push_to_hub('amang1802/wildeweb-sample-salad_5K')"
   ]
  },
  {
   "cell_type": "code",
   "execution_count": null,
   "id": "6d0f94ed-1f3e-4e2e-850c-e0f7a7167a33",
   "metadata": {},
   "outputs": [],
   "source": []
  }
 ],
 "metadata": {
  "kernelspec": {
   "display_name": "Python 3 (ipykernel)",
   "language": "python",
   "name": "python3"
  },
  "language_info": {
   "codemirror_mode": {
    "name": "ipython",
    "version": 3
   },
   "file_extension": ".py",
   "mimetype": "text/x-python",
   "name": "python",
   "nbconvert_exporter": "python",
   "pygments_lexer": "ipython3",
   "version": "3.10.12"
  }
 },
 "nbformat": 4,
 "nbformat_minor": 5
}
