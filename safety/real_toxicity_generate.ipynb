{
 "cells": [
  {
   "cell_type": "code",
   "execution_count": 1,
   "id": "fbcf6e57-1c59-44c3-8710-a3fa927b4046",
   "metadata": {},
   "outputs": [],
   "source": [
    "from datasets import load_dataset, Dataset\n",
    "from vllm import LLM, SamplingParams"
   ]
  },
  {
   "cell_type": "code",
   "execution_count": 2,
   "id": "0107fb4c-5a46-4dbb-8774-209b71168555",
   "metadata": {},
   "outputs": [],
   "source": [
    "NUM_GPUS = 4\n",
    "BATCH_SIZE = 2048"
   ]
  },
  {
   "cell_type": "code",
   "execution_count": 3,
   "id": "a2fdeca6-d6b4-4d2f-a438-6394da58945d",
   "metadata": {},
   "outputs": [],
   "source": [
    "#ds = load_dataset('allenai/real-toxicity-prompts', split='train')\n",
    "#ds = load_dataset('amang1802/wildeweb-sample-realtoxicity-challenge', split='train')\n"
   ]
  },
  {
   "cell_type": "code",
   "execution_count": 4,
   "id": "fb7950f9-8ff3-40f4-b059-da2796d0a2d5",
   "metadata": {},
   "outputs": [],
   "source": [
    "ds = ds.filter(lambda row: row['challenging'])"
   ]
  },
  {
   "cell_type": "code",
   "execution_count": 5,
   "id": "3901cc64-7f9d-4e89-bc04-3ad8d2b12bec",
   "metadata": {},
   "outputs": [
    {
     "data": {
      "text/plain": [
       "Dataset({\n",
       "    features: ['filename', 'begin', 'end', 'challenging', 'prompt', 'continuation', 'wildeweb'],\n",
       "    num_rows: 770\n",
       "})"
      ]
     },
     "execution_count": 5,
     "metadata": {},
     "output_type": "execute_result"
    }
   ],
   "source": [
    "ds"
   ]
  },
  {
   "cell_type": "code",
   "execution_count": 6,
   "id": "5078a1c4-c45f-4ff8-9c80-a0e6b96a5570",
   "metadata": {},
   "outputs": [],
   "source": [
    "model_id = \"meta-llama/Llama-3.1-70B\""
   ]
  },
  {
   "cell_type": "code",
   "execution_count": 7,
   "id": "e8a56b4b-5c8c-4f2f-ac1f-9c68337d7154",
   "metadata": {},
   "outputs": [
    {
     "name": "stdout",
     "output_type": "stream",
     "text": [
      "INFO 01-21 01:33:21 config.py:905] Defaulting to use mp for distributed inference\n",
      "INFO 01-21 01:33:21 llm_engine.py:237] Initializing an LLM engine (v0.6.3.post1) with config: model='meta-llama/Llama-3.1-70B', speculative_config=None, tokenizer='meta-llama/Llama-3.1-70B', skip_tokenizer_init=False, tokenizer_mode=auto, revision=None, override_neuron_config=None, rope_scaling=None, rope_theta=None, tokenizer_revision=None, trust_remote_code=False, dtype=torch.bfloat16, max_seq_len=512, download_dir=None, load_format=LoadFormat.AUTO, tensor_parallel_size=4, pipeline_parallel_size=1, disable_custom_all_reduce=False, quantization=None, enforce_eager=False, kv_cache_dtype=auto, quantization_param_path=None, device_config=cuda, decoding_config=DecodingConfig(guided_decoding_backend='outlines'), observability_config=ObservabilityConfig(otlp_traces_endpoint=None, collect_model_forward_time=False, collect_model_execute_time=False), seed=0, served_model_name=meta-llama/Llama-3.1-70B, num_scheduler_steps=1, chunked_prefill_enabled=False multi_step_stream_outputs=True, enable_prefix_caching=False, use_async_output_proc=True, use_cached_outputs=False, mm_processor_kwargs=None)\n",
      "WARNING 01-21 01:33:21 multiproc_gpu_executor.py:53] Reducing Torch parallelism from 64 threads to 1 to avoid unnecessary CPU contention. Set OMP_NUM_THREADS in the external environment to tune this value as needed.\n",
      "INFO 01-21 01:33:21 custom_cache_manager.py:17] Setting Triton cache manager to: vllm.triton_utils.custom_cache_manager:CustomCacheManager\n",
      "\u001b[1;36m(VllmWorkerProcess pid=55391)\u001b[0;0m INFO 01-21 01:33:21 multiproc_worker_utils.py:215] Worker ready; awaiting tasks\n",
      "\u001b[1;36m(VllmWorkerProcess pid=55393)\u001b[0;0m \u001b[1;36m(VllmWorkerProcess pid=55392)\u001b[0;0m INFO 01-21 01:33:21 multiproc_worker_utils.py:215] Worker ready; awaiting tasks\n",
      "INFO 01-21 01:33:21 multiproc_worker_utils.py:215] Worker ready; awaiting tasks\n",
      "INFO 01-21 01:33:25 utils.py:1008] Found nccl from library libnccl.so.2\n",
      "INFO 01-21 01:33:25 pynccl.py:63] vLLM is using nccl==2.20.5\n",
      "\u001b[1;36m(VllmWorkerProcess pid=55393)\u001b[0;0m \u001b[1;36m(VllmWorkerProcess pid=55392)\u001b[0;0m \u001b[1;36m(VllmWorkerProcess pid=55391)\u001b[0;0m INFO 01-21 01:33:25 utils.py:1008] Found nccl from library libnccl.so.2\n",
      "INFO 01-21 01:33:25 utils.py:1008] Found nccl from library libnccl.so.2\n",
      "INFO 01-21 01:33:25 utils.py:1008] Found nccl from library libnccl.so.2\n",
      "\u001b[1;36m(VllmWorkerProcess pid=55393)\u001b[0;0m \u001b[1;36m(VllmWorkerProcess pid=55392)\u001b[0;0m \u001b[1;36m(VllmWorkerProcess pid=55391)\u001b[0;0m INFO 01-21 01:33:25 pynccl.py:63] vLLM is using nccl==2.20.5\n",
      "INFO 01-21 01:33:25 pynccl.py:63] vLLM is using nccl==2.20.5\n",
      "INFO 01-21 01:33:25 pynccl.py:63] vLLM is using nccl==2.20.5\n",
      "INFO 01-21 01:33:27 custom_all_reduce_utils.py:242] reading GPU P2P access cache from /root/.cache/vllm/gpu_p2p_access_cache_for_0,1,2,3.json\n",
      "\u001b[1;36m(VllmWorkerProcess pid=55391)\u001b[0;0m \u001b[1;36m(VllmWorkerProcess pid=55393)\u001b[0;0m \u001b[1;36m(VllmWorkerProcess pid=55392)\u001b[0;0m INFO 01-21 01:33:27 custom_all_reduce_utils.py:242] reading GPU P2P access cache from /root/.cache/vllm/gpu_p2p_access_cache_for_0,1,2,3.json\n",
      "INFO 01-21 01:33:27 custom_all_reduce_utils.py:242] reading GPU P2P access cache from /root/.cache/vllm/gpu_p2p_access_cache_for_0,1,2,3.json\n",
      "INFO 01-21 01:33:27 custom_all_reduce_utils.py:242] reading GPU P2P access cache from /root/.cache/vllm/gpu_p2p_access_cache_for_0,1,2,3.json\n",
      "INFO 01-21 01:33:27 shm_broadcast.py:241] vLLM message queue communication handle: Handle(connect_ip='127.0.0.1', local_reader_ranks=[1, 2, 3], buffer=<vllm.distributed.device_communicators.shm_broadcast.ShmRingBuffer object at 0x748931eb8a60>, local_subscribe_port=58315, remote_subscribe_port=None)\n",
      "INFO 01-21 01:33:27 model_runner.py:1056] Starting to load model meta-llama/Llama-3.1-70B...\n",
      "\u001b[1;36m(VllmWorkerProcess pid=55391)\u001b[0;0m \u001b[1;36m(VllmWorkerProcess pid=55392)\u001b[0;0m \u001b[1;36m(VllmWorkerProcess pid=55393)\u001b[0;0m INFO 01-21 01:33:27 model_runner.py:1056] Starting to load model meta-llama/Llama-3.1-70B...\n",
      "INFO 01-21 01:33:27 model_runner.py:1056] Starting to load model meta-llama/Llama-3.1-70B...\n",
      "INFO 01-21 01:33:27 model_runner.py:1056] Starting to load model meta-llama/Llama-3.1-70B...\n",
      "\u001b[1;36m(VllmWorkerProcess pid=55393)\u001b[0;0m INFO 01-21 01:33:27 weight_utils.py:243] Using model weights format ['*.safetensors']\n",
      "INFO 01-21 01:33:27 weight_utils.py:243] Using model weights format ['*.safetensors']\n",
      "\u001b[1;36m(VllmWorkerProcess pid=55391)\u001b[0;0m INFO 01-21 01:33:27 weight_utils.py:243] Using model weights format ['*.safetensors']\n",
      "\u001b[1;36m(VllmWorkerProcess pid=55392)\u001b[0;0m INFO 01-21 01:33:27 weight_utils.py:243] Using model weights format ['*.safetensors']\n"
     ]
    },
    {
     "data": {
      "application/vnd.jupyter.widget-view+json": {
       "model_id": "44c3794aeeeb4685b82954c145ca6c89",
       "version_major": 2,
       "version_minor": 0
      },
      "text/plain": [
       "Loading safetensors checkpoint shards:   0% Completed | 0/30 [00:00<?, ?it/s]\n"
      ]
     },
     "metadata": {},
     "output_type": "display_data"
    },
    {
     "name": "stdout",
     "output_type": "stream",
     "text": [
      "INFO 01-21 01:33:38 model_runner.py:1067] Loading model weights took 32.8892 GB\n",
      "\u001b[1;36m(VllmWorkerProcess pid=55391)\u001b[0;0m INFO 01-21 01:33:38 model_runner.py:1067] Loading model weights took 32.8892 GB\n",
      "\u001b[1;36m(VllmWorkerProcess pid=55393)\u001b[0;0m INFO 01-21 01:33:38 model_runner.py:1067] Loading model weights took 32.8892 GB\n",
      "\u001b[1;36m(VllmWorkerProcess pid=55392)\u001b[0;0m INFO 01-21 01:33:39 model_runner.py:1067] Loading model weights took 32.8892 GB\n",
      "INFO 01-21 01:33:40 distributed_gpu_executor.py:57] # GPU blocks: 79201, # CPU blocks: 3276\n",
      "INFO 01-21 01:33:40 distributed_gpu_executor.py:61] Maximum concurrency for 512 tokens per request: 2475.03x\n",
      "INFO 01-21 01:33:42 model_runner.py:1395] Capturing the model for CUDA graphs. This may lead to unexpected consequences if the model is not static. To run the model in eager mode, set 'enforce_eager=True' or use '--enforce-eager' in the CLI.\n",
      "INFO 01-21 01:33:42 model_runner.py:1399] CUDA graphs can take additional 1~3 GiB memory per GPU. If you are running out of memory, consider decreasing `gpu_memory_utilization` or enforcing eager mode. You can also reduce the `max_num_seqs` as needed to decrease memory usage.\n",
      "\u001b[1;36m(VllmWorkerProcess pid=55393)\u001b[0;0m \u001b[1;36m(VllmWorkerProcess pid=55391)\u001b[0;0m \u001b[1;36m(VllmWorkerProcess pid=55392)\u001b[0;0m INFO 01-21 01:33:43 model_runner.py:1395] Capturing the model for CUDA graphs. This may lead to unexpected consequences if the model is not static. To run the model in eager mode, set 'enforce_eager=True' or use '--enforce-eager' in the CLI.\n",
      "INFO 01-21 01:33:43 model_runner.py:1395] Capturing the model for CUDA graphs. This may lead to unexpected consequences if the model is not static. To run the model in eager mode, set 'enforce_eager=True' or use '--enforce-eager' in the CLI.\n",
      "INFO 01-21 01:33:43 model_runner.py:1395] Capturing the model for CUDA graphs. This may lead to unexpected consequences if the model is not static. To run the model in eager mode, set 'enforce_eager=True' or use '--enforce-eager' in the CLI.\n",
      "\u001b[1;36m(VllmWorkerProcess pid=55393)\u001b[0;0m \u001b[1;36m(VllmWorkerProcess pid=55392)\u001b[0;0m \u001b[1;36m(VllmWorkerProcess pid=55391)\u001b[0;0m INFO 01-21 01:33:43 model_runner.py:1399] CUDA graphs can take additional 1~3 GiB memory per GPU. If you are running out of memory, consider decreasing `gpu_memory_utilization` or enforcing eager mode. You can also reduce the `max_num_seqs` as needed to decrease memory usage.\n",
      "INFO 01-21 01:33:43 model_runner.py:1399] CUDA graphs can take additional 1~3 GiB memory per GPU. If you are running out of memory, consider decreasing `gpu_memory_utilization` or enforcing eager mode. You can also reduce the `max_num_seqs` as needed to decrease memory usage.\n",
      "INFO 01-21 01:33:43 model_runner.py:1399] CUDA graphs can take additional 1~3 GiB memory per GPU. If you are running out of memory, consider decreasing `gpu_memory_utilization` or enforcing eager mode. You can also reduce the `max_num_seqs` as needed to decrease memory usage.\n",
      "INFO 01-21 01:34:00 custom_all_reduce.py:233] Registering 5635 cuda graph addresses\n",
      "\u001b[1;36m(VllmWorkerProcess pid=55393)\u001b[0;0m \u001b[1;36m(VllmWorkerProcess pid=55391)\u001b[0;0m INFO 01-21 01:34:00 custom_all_reduce.py:233] Registering 5635 cuda graph addresses\n",
      "INFO 01-21 01:34:00 custom_all_reduce.py:233] Registering 5635 cuda graph addresses\n",
      "\u001b[1;36m(VllmWorkerProcess pid=55392)\u001b[0;0m INFO 01-21 01:34:00 custom_all_reduce.py:233] Registering 5635 cuda graph addresses\n",
      "INFO 01-21 01:34:00 model_runner.py:1523] Graph capturing finished in 18 secs.\n",
      "\u001b[1;36m(VllmWorkerProcess pid=55391)\u001b[0;0m \u001b[1;36m(VllmWorkerProcess pid=55393)\u001b[0;0m \u001b[1;36m(VllmWorkerProcess pid=55392)\u001b[0;0m INFO 01-21 01:34:00 model_runner.py:1523] Graph capturing finished in 18 secs.\n",
      "INFO 01-21 01:34:00 model_runner.py:1523] Graph capturing finished in 18 secs.\n",
      "INFO 01-21 01:34:00 model_runner.py:1523] Graph capturing finished in 18 secs.\n"
     ]
    }
   ],
   "source": [
    "llm = LLM(model=model_id, max_model_len=512, tensor_parallel_size=NUM_GPUS, gpu_memory_utilization=0.98)"
   ]
  },
  {
   "cell_type": "code",
   "execution_count": 9,
   "id": "4a7c567a-c4b5-4ef4-9637-6820fb36a57d",
   "metadata": {},
   "outputs": [],
   "source": [
    "def complete(jsons, output_column):\n",
    "    prompts = [item['text'] for item in jsons]\n",
    "    outputs = llm.generate(prompts, SamplingParams(temperature=0.5, top_p=0.9, max_tokens=64, stop=[\"\\n\"]))\n",
    "\n",
    "    return {output_column: [output.outputs[0].text for output in outputs]}"
   ]
  },
  {
   "cell_type": "code",
   "execution_count": 10,
   "id": "ae8fb7f1-d072-4d0e-9a49-87f5bfe6eccb",
   "metadata": {},
   "outputs": [
    {
     "name": "stderr",
     "output_type": "stream",
     "text": [
      "Parameter 'function'=<function <lambda> at 0x7486fc2740d0> of the transform datasets.arrow_dataset.Dataset._map_single couldn't be hashed properly, a random hash was used instead. Make sure your transforms and parameters are serializable with pickle or dill for the dataset fingerprinting and caching to work. If you reuse this transform, the caching mechanism will consider it to be different from the previous calls and recompute everything. This warning is only showed once. Subsequent hashing failures won't be showed.\n"
     ]
    },
    {
     "data": {
      "application/vnd.jupyter.widget-view+json": {
       "model_id": "ffe2409ae84948839c9c9e9747a96a8f",
       "version_major": 2,
       "version_minor": 0
      },
      "text/plain": [
       "Map:   0%|          | 0/770 [00:00<?, ? examples/s]"
      ]
     },
     "metadata": {},
     "output_type": "display_data"
    },
    {
     "name": "stderr",
     "output_type": "stream",
     "text": [
      "\n",
      "\u001b[Acessed prompts:   0% 0/770 [00:00<?, ?it/s, est. speed input: 0.00 toks/s, output: 0.00 toks/s]\n",
      "\u001b[Acessed prompts:   0% 1/770 [00:00<04:05,  3.14it/s, est. speed input: 53.32 toks/s, output: 3.14 toks/s]\n",
      "\u001b[Acessed prompts:   1% 5/770 [00:00<01:06, 11.43it/s, est. speed input: 153.89 toks/s, output: 11.84 toks/s]\n",
      "\u001b[Acessed prompts:   3% 21/770 [00:00<00:15, 48.94it/s, est. speed input: 507.20 toks/s, output: 71.76 toks/s]\n",
      "\u001b[Acessed prompts:   4% 29/770 [00:00<00:14, 51.27it/s, est. speed input: 606.58 toks/s, output: 103.08 toks/s]\n",
      "\u001b[Acessed prompts:   5% 38/770 [00:00<00:13, 55.13it/s, est. speed input: 653.80 toks/s, output: 142.32 toks/s]\n",
      "\u001b[Acessed prompts:   6% 47/770 [00:01<00:12, 57.69it/s, est. speed input: 684.36 toks/s, output: 188.12 toks/s]\n",
      "\u001b[Acessed prompts:   8% 61/770 [00:01<00:09, 76.46it/s, est. speed input: 854.56 toks/s, output: 263.95 toks/s]\n",
      "\u001b[Acessed prompts:   9% 70/770 [00:01<00:09, 72.83it/s, est. speed input: 868.47 toks/s, output: 300.89 toks/s]\n",
      "\u001b[Acessed prompts:  10% 79/770 [00:01<00:09, 69.71it/s, est. speed input: 884.67 toks/s, output: 338.05 toks/s]\n",
      "\u001b[Acessed prompts:  11% 87/770 [00:01<00:10, 65.64it/s, est. speed input: 880.89 toks/s, output: 366.24 toks/s]\n",
      "\u001b[Acessed prompts:  13% 102/770 [00:01<00:08, 77.82it/s, est. speed input: 969.57 toks/s, output: 454.72 toks/s]\n",
      "\u001b[Acessed prompts:  14% 111/770 [00:01<00:09, 68.11it/s, est. speed input: 963.93 toks/s, output: 484.87 toks/s]\n",
      "\u001b[Acessed prompts:  15% 119/770 [00:02<00:10, 64.42it/s, est. speed input: 954.57 toks/s, output: 526.66 toks/s]\n",
      "\u001b[Acessed prompts:  16% 127/770 [00:02<00:09, 67.30it/s, est. speed input: 962.38 toks/s, output: 552.93 toks/s]\n",
      "\u001b[Acessed prompts:  17% 134/770 [00:02<00:10, 61.66it/s, est. speed input: 968.09 toks/s, output: 577.17 toks/s]\n",
      "\u001b[Acessed prompts:  18% 141/770 [00:02<00:10, 62.34it/s, est. speed input: 988.02 toks/s, output: 624.10 toks/s]\n",
      "\u001b[Acessed prompts:  19% 148/770 [00:02<00:10, 58.07it/s, est. speed input: 982.93 toks/s, output: 647.39 toks/s]\n",
      "\u001b[Acessed prompts:  20% 155/770 [00:02<00:11, 55.06it/s, est. speed input: 967.00 toks/s, output: 672.30 toks/s]\n",
      "\u001b[Acessed prompts:  21% 161/770 [00:02<00:11, 50.91it/s, est. speed input: 955.29 toks/s, output: 695.11 toks/s]\n",
      "\u001b[Acessed prompts:  22% 170/770 [00:02<00:11, 54.54it/s, est. speed input: 961.66 toks/s, output: 725.54 toks/s]\n",
      "\u001b[Acessed prompts:  23% 176/770 [00:03<00:11, 50.71it/s, est. speed input: 956.04 toks/s, output: 746.55 toks/s]\n",
      "\u001b[Acessed prompts:  24% 182/770 [00:03<00:12, 47.81it/s, est. speed input: 946.81 toks/s, output: 749.14 toks/s]\n",
      "\u001b[Acessed prompts:  25% 189/770 [00:03<00:12, 48.18it/s, est. speed input: 943.51 toks/s, output: 761.52 toks/s]\n",
      "\u001b[Acessed prompts:  26% 199/770 [00:03<00:09, 59.10it/s, est. speed input: 971.85 toks/s, output: 810.30 toks/s]\n",
      "\u001b[Acessed prompts:  27% 206/770 [00:03<00:10, 55.94it/s, est. speed input: 963.75 toks/s, output: 841.43 toks/s]\n",
      "\u001b[Acessed prompts:  28% 212/770 [00:03<00:10, 55.74it/s, est. speed input: 965.12 toks/s, output: 879.63 toks/s]\n",
      "\u001b[Acessed prompts:  29% 221/770 [00:03<00:10, 54.13it/s, est. speed input: 960.04 toks/s, output: 888.28 toks/s]\n",
      "\u001b[Acessed prompts:  30% 228/770 [00:04<00:10, 52.59it/s, est. speed input: 949.95 toks/s, output: 897.90 toks/s]\n",
      "\u001b[Acessed prompts:  31% 239/770 [00:04<00:08, 59.92it/s, est. speed input: 967.53 toks/s, output: 948.32 toks/s]\n",
      "\u001b[Acessed prompts:  32% 247/770 [00:04<00:08, 58.70it/s, est. speed input: 968.32 toks/s, output: 966.95 toks/s]\n",
      "\u001b[Acessed prompts:  33% 254/770 [00:04<00:09, 55.80it/s, est. speed input: 961.16 toks/s, output: 975.82 toks/s]\n",
      "\u001b[Acessed prompts:  34% 263/770 [00:04<00:08, 57.77it/s, est. speed input: 961.85 toks/s, output: 1029.86 toks/s]\n",
      "\u001b[Acessed prompts:  36% 275/770 [00:04<00:07, 65.55it/s, est. speed input: 979.82 toks/s, output: 1067.72 toks/s]\n",
      "\u001b[Acessed prompts:  37% 282/770 [00:04<00:08, 60.52it/s, est. speed input: 974.23 toks/s, output: 1091.19 toks/s]\n",
      "\u001b[Acessed prompts:  38% 291/770 [00:05<00:07, 61.09it/s, est. speed input: 971.58 toks/s, output: 1118.11 toks/s]\n",
      "\u001b[Acessed prompts:  50% 385/770 [00:05<00:01, 217.02it/s, est. speed input: 1255.66 toks/s, output: 2159.87 toks/s]\n",
      "\u001b[Acessed prompts:  52% 404/770 [00:05<00:01, 193.29it/s, est. speed input: 1281.08 toks/s, output: 2199.35 toks/s]\n",
      "\u001b[Acessed prompts:  55% 422/770 [00:05<00:02, 173.72it/s, est. speed input: 1298.80 toks/s, output: 2223.50 toks/s]\n",
      "\u001b[Acessed prompts:  57% 438/770 [00:05<00:02, 137.20it/s, est. speed input: 1299.81 toks/s, output: 2231.36 toks/s]\n",
      "\u001b[Acessed prompts:  59% 452/770 [00:05<00:02, 135.23it/s, est. speed input: 1308.13 toks/s, output: 2248.06 toks/s]\n",
      "\u001b[Acessed prompts:  61% 466/770 [00:06<00:02, 125.65it/s, est. speed input: 1322.96 toks/s, output: 2301.79 toks/s]\n",
      "\u001b[Acessed prompts:  62% 479/770 [00:06<00:02, 115.45it/s, est. speed input: 1322.94 toks/s, output: 2310.39 toks/s]\n",
      "\u001b[Acessed prompts:  64% 491/770 [00:06<00:02, 113.61it/s, est. speed input: 1338.25 toks/s, output: 2351.27 toks/s]\n",
      "\u001b[Acessed prompts:  65% 503/770 [00:06<00:02, 104.24it/s, est. speed input: 1345.26 toks/s, output: 2375.52 toks/s]\n",
      "\u001b[Acessed prompts:  67% 514/770 [00:06<00:02, 95.58it/s, est. speed input: 1345.71 toks/s, output: 2378.16 toks/s] \n",
      "\u001b[Acessed prompts:  68% 524/770 [00:06<00:02, 93.98it/s, est. speed input: 1348.30 toks/s, output: 2401.07 toks/s]\n",
      "\u001b[Acessed prompts:  71% 548/770 [00:06<00:01, 125.31it/s, est. speed input: 1380.47 toks/s, output: 2461.84 toks/s]\n",
      "\u001b[Acessed prompts:  74% 566/770 [00:06<00:01, 136.25it/s, est. speed input: 1404.16 toks/s, output: 2518.14 toks/s]\n",
      "\u001b[Acessed prompts:  75% 580/770 [00:06<00:01, 134.69it/s, est. speed input: 1416.94 toks/s, output: 2574.15 toks/s]\n",
      "\u001b[Acessed prompts:  77% 594/770 [00:07<00:01, 135.56it/s, est. speed input: 1424.28 toks/s, output: 2592.27 toks/s]\n",
      "\u001b[Acessed prompts:  79% 608/770 [00:07<00:01, 136.53it/s, est. speed input: 1436.87 toks/s, output: 2634.62 toks/s]\n",
      "\u001b[Acessed prompts:  81% 622/770 [00:07<00:01, 107.38it/s, est. speed input: 1435.46 toks/s, output: 2644.60 toks/s]\n",
      "\u001b[Acessed prompts:  83% 637/770 [00:07<00:01, 110.85it/s, est. speed input: 1445.30 toks/s, output: 2708.04 toks/s]\n",
      "\u001b[Acessed prompts:  84% 649/770 [00:07<00:01, 105.07it/s, est. speed input: 1446.78 toks/s, output: 2742.07 toks/s]\n",
      "\u001b[Acessed prompts:  86% 661/770 [00:07<00:01, 96.96it/s, est. speed input: 1444.92 toks/s, output: 2774.57 toks/s] \n",
      "\u001b[Acessed prompts:  88% 676/770 [00:07<00:00, 98.33it/s, est. speed input: 1451.47 toks/s, output: 2839.08 toks/s]\n",
      "\u001b[Acessed prompts:  94% 721/770 [00:08<00:00, 176.20it/s, est. speed input: 1533.16 toks/s, output: 3150.24 toks/s]\n",
      "\u001b[Acessed prompts:  97% 745/770 [00:08<00:00, 185.50it/s, est. speed input: 1559.23 toks/s, output: 3294.13 toks/s]\n",
      "Processed prompts: 100% 770/770 [00:08<00:00, 92.39it/s, est. speed input: 1582.61 toks/s, output: 3424.88 toks/s] \n"
     ]
    }
   ],
   "source": [
    "ds_completions = ds.map(lambda prompts: complete(prompts, \"metallama\"), input_columns=['prompt'], batched=True, batch_size=BATCH_SIZE)"
   ]
  },
  {
   "cell_type": "code",
   "execution_count": 11,
   "id": "2865d41a-bf5f-41a2-8871-fcf3a9054dfe",
   "metadata": {},
   "outputs": [
    {
     "data": {
      "application/vnd.jupyter.widget-view+json": {
       "model_id": "3e922c61d62c4a449bcb4a0c55103ffd",
       "version_major": 2,
       "version_minor": 0
      },
      "text/plain": [
       "Uploading the dataset shards:   0%|          | 0/1 [00:00<?, ?it/s]"
      ]
     },
     "metadata": {},
     "output_type": "display_data"
    },
    {
     "data": {
      "application/vnd.jupyter.widget-view+json": {
       "model_id": "4fdd4741c1a84123b8b9dfa69251a228",
       "version_major": 2,
       "version_minor": 0
      },
      "text/plain": [
       "Creating parquet from Arrow format:   0%|          | 0/1 [00:00<?, ?ba/s]"
      ]
     },
     "metadata": {},
     "output_type": "display_data"
    },
    {
     "data": {
      "application/vnd.jupyter.widget-view+json": {
       "model_id": "90ce523b537a468db3b8284271a7937e",
       "version_major": 2,
       "version_minor": 0
      },
      "text/plain": [
       "  0%|          | 0/1 [00:00<?, ?it/s]"
      ]
     },
     "metadata": {},
     "output_type": "display_data"
    },
    {
     "data": {
      "text/plain": [
       "CommitInfo(commit_url='https://huggingface.co/datasets/amang1802/wildeweb-sample-realtoxicity-challenge/commit/d389ca144cf5cc960e63905c366a4e6dc22c4a49', commit_message='Upload dataset', commit_description='', oid='d389ca144cf5cc960e63905c366a4e6dc22c4a49', pr_url=None, repo_url=RepoUrl('https://huggingface.co/datasets/amang1802/wildeweb-sample-realtoxicity-challenge', endpoint='https://huggingface.co', repo_type='dataset', repo_id='amang1802/wildeweb-sample-realtoxicity-challenge'), pr_revision=None, pr_num=None)"
      ]
     },
     "execution_count": 11,
     "metadata": {},
     "output_type": "execute_result"
    }
   ],
   "source": [
    "ds_completions.push_to_hub('amang1802/wildeweb-sample-realtoxicity-challenge')"
   ]
  },
  {
   "cell_type": "code",
   "execution_count": null,
   "id": "603fc475-357e-44ff-95fc-5f8d15ca8900",
   "metadata": {},
   "outputs": [],
   "source": []
  }
 ],
 "metadata": {
  "kernelspec": {
   "display_name": "Python 3 (ipykernel)",
   "language": "python",
   "name": "python3"
  },
  "language_info": {
   "codemirror_mode": {
    "name": "ipython",
    "version": 3
   },
   "file_extension": ".py",
   "mimetype": "text/x-python",
   "name": "python",
   "nbconvert_exporter": "python",
   "pygments_lexer": "ipython3",
   "version": "3.10.12"
  }
 },
 "nbformat": 4,
 "nbformat_minor": 5
}
