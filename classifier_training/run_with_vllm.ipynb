{
 "cells": [
  {
   "cell_type": "code",
   "execution_count": 1,
   "metadata": {},
   "outputs": [
    {
     "name": "stderr",
     "output_type": "stream",
     "text": [
      "/usr/local/lib/python3.10/dist-packages/tqdm/auto.py:21: TqdmWarning: IProgress not found. Please update jupyter and ipywidgets. See https://ipywidgets.readthedocs.io/en/stable/user_install.html\n",
      "  from .autonotebook import tqdm as notebook_tqdm\n"
     ]
    },
    {
     "name": "stdout",
     "output_type": "stream",
     "text": [
      "INFO 02-28 00:16:27 __init__.py:183] Automatically detected platform cuda.\n"
     ]
    },
    {
     "name": "stderr",
     "output_type": "stream",
     "text": [
      "2025-02-28 00:16:27,848\tINFO util.py:154 -- Missing packages: ['ipywidgets']. Run `pip install -U ipywidgets`, then restart the notebook server for rich notebook output.\n"
     ]
    }
   ],
   "source": [
    "from vllm import LLM"
   ]
  },
  {
   "cell_type": "code",
   "execution_count": null,
   "metadata": {},
   "outputs": [],
   "source": [
    "model_dir = 'bert_base-20250228-002924/checkpoint-20'"
   ]
  },
  {
   "cell_type": "code",
   "execution_count": 3,
   "metadata": {},
   "outputs": [
    {
     "name": "stdout",
     "output_type": "stream",
     "text": [
      "INFO 02-28 00:16:39 config.py:2320] Downcasting torch.float32 to torch.float16.\n"
     ]
    },
    {
     "name": "stdout",
     "output_type": "stream",
     "text": [
      "INFO 02-28 00:16:45 llm_engine.py:232] Initializing a V0 LLM engine (v0.7.1.dev40+gf17f1d46.d20250130) with config: model='bert_base-20250227-235518/checkpoint-20', speculative_config=None, tokenizer='bert-base-cased', skip_tokenizer_init=False, tokenizer_mode=auto, revision=None, override_neuron_config=None, tokenizer_revision=None, trust_remote_code=False, dtype=torch.float16, max_seq_len=512, download_dir=None, load_format=auto, tensor_parallel_size=1, pipeline_parallel_size=1, disable_custom_all_reduce=False, quantization=None, enforce_eager=False, kv_cache_dtype=auto,  device_config=cuda, decoding_config=DecodingConfig(guided_decoding_backend='xgrammar'), observability_config=ObservabilityConfig(otlp_traces_endpoint=None, collect_model_forward_time=False, collect_model_execute_time=False), seed=0, served_model_name=bert_base-20250227-235518/checkpoint-20, num_scheduler_steps=1, multi_step_stream_outputs=True, enable_prefix_caching=False, chunked_prefill_enabled=False, use_async_output_proc=False, disable_mm_preprocessor_cache=False, mm_processor_kwargs=None, pooler_config=PoolerConfig(pooling_type=None, normalize=None, softmax=None, step_tag_id=None, returned_token_ids=None), compilation_config={\"splitting_ops\":[],\"compile_sizes\":[],\"cudagraph_capture_sizes\":[256,248,240,232,224,216,208,200,192,184,176,168,160,152,144,136,128,120,112,104,96,88,80,72,64,56,48,40,32,24,16,8,4,2,1],\"max_capture_size\":256}, use_cached_outputs=False, \n",
      "INFO 02-28 00:16:46 cuda.py:230] Using Flash Attention backend.\n",
      "INFO 02-28 00:16:46 model_runner.py:1110] Starting to load model bert_base-20250227-235518/checkpoint-20...\n"
     ]
    },
    {
     "name": "stderr",
     "output_type": "stream",
     "text": [
      "Loading pt checkpoint shards:   0% Completed | 0/1 [00:00<?, ?it/s]\n",
      "Loading pt checkpoint shards: 100% Completed | 1/1 [00:00<00:00,  2.30it/s]\n",
      "Loading pt checkpoint shards: 100% Completed | 1/1 [00:00<00:00,  2.30it/s]\n",
      "\n"
     ]
    },
    {
     "name": "stdout",
     "output_type": "stream",
     "text": [
      "INFO 02-28 00:16:47 model_runner.py:1115] Loading model weights took 0.2091 GB\n"
     ]
    }
   ],
   "source": [
    "llm = LLM(model_dir, tokenizer=\"bert-base-cased\", task=\"classify\", max_model_len=512, tensor_parallel_size=1)"
   ]
  },
  {
   "cell_type": "code",
   "execution_count": 4,
   "metadata": {},
   "outputs": [],
   "source": [
    "text = \"\"\"We Can End Domestic Abuse\n",
    "If your friend or loved one is experiencing domestic violence or is a survivor, there are many ways you can help to support them.\n",
    "Do respect what she wants to do.\n",
    "Every step is up to her.\n",
    "Do share resources with your friend or loved one.\n",
    "Professionals who work at shelters and on hotlines can help. You can’t do it all alone!\n",
    "Do offer your unconditional understanding and support.\n",
    "Start by helping them feel good about themselves. Emphasize their strengths.\n",
    "Do be clear that you are there to listen, and not to judge.\n",
    "There is an important balance between expressing concern and telling someone what to do. Encourage them to express their feelings and make their own decisions.\n",
    "Do tell her it's not her/his fault.\n",
    "Stress that she doesn’t deserve the abuse and that abuse is NEVER okay. Remind them often that you’re there for support whenever necessary.\n",
    "Do identify the unhealthy behaviors.\n",
    "Keep track of things you have noticed about the relationship and the abuser. Identify the changes you have seen in your loved one's behavior.\n",
    "Do acknowledge the scariness of domestic violence.\n",
    "It is scary and difficult to talk about interpersonal violence. Be prepared with good information.\n",
    "Do encourage your loved one to build a support system.\n",
    "A good support system includes the safe and healthy people in her life.\n",
    "Don't spread gossip.\n",
    "Gossip can put a victim in danger if it gets back to the abuser, so think before you speak. Your friend or loved one has taken a big step in coming to you—it is critical that they can trust you with confidential information.\n",
    "Don't blame your friend or loved one for the abuse.\n",
    "The victim should never feel as though the abuse is her fault.\n",
    "Don't make them do something.\n",
    "Don't force her to do something she is uncomfortable doing. They can make their own decisions. Don't try to end the relationship for them.\n",
    "Don't criticize your loved one or her partner.\n",
    "Even if you disagree with her choices. This may isolate them even more by making them feel that no one approves, or that they have to hide their relationship.\"\"\".strip()"
   ]
  },
  {
   "cell_type": "code",
   "execution_count": 5,
   "metadata": {},
   "outputs": [],
   "source": [
    "text2 = \"\"\"General relativity, also known as the general theory of relativity, and as Einstein's theory of gravity, is the geometric theory of gravitation published by Albert Einstein in 1915 and is the current description of gravitation in modern physics. General relativity generalizes special relativity and refines Newton's law of universal gravitation, providing a unified description of gravity as a geometric property of space and time, or four-dimensional spacetime. In particular, the curvature of spacetime is directly related to the energy and momentum of whatever is present, including matter and radiation. The relation is specified by the Einstein field equations, a system of second-order partial differential equations.\"\"\".strip()"
   ]
  },
  {
   "cell_type": "code",
   "execution_count": 6,
   "metadata": {},
   "outputs": [
    {
     "name": "stderr",
     "output_type": "stream",
     "text": [
      "Processed prompts: 100%|██████████| 2/2 [00:00<00:00,  5.19it/s, est. speed input: 0.00 toks/s, output: 0.00 toks/s]"
     ]
    },
    {
     "name": "stdout",
     "output_type": "stream",
     "text": [
      "[2.171875, 0.379638671875, -0.270751953125, -1.0244140625, -1.18359375]\n",
      "[3.310546875, -0.158447265625, -0.79150390625, -1.0712890625, -1.2041015625]\n"
     ]
    },
    {
     "name": "stderr",
     "output_type": "stream",
     "text": [
      "\n"
     ]
    }
   ],
   "source": [
    "output = llm.classify([text, text2])\n",
    "print(output[0].outputs.probs)\n",
    "print(output[1].outputs.probs)"
   ]
  },
  {
   "cell_type": "code",
   "execution_count": null,
   "metadata": {},
   "outputs": [],
   "source": []
  }
 ],
 "metadata": {
  "kernelspec": {
   "display_name": "Python 3",
   "language": "python",
   "name": "python3"
  },
  "language_info": {
   "codemirror_mode": {
    "name": "ipython",
    "version": 3
   },
   "file_extension": ".py",
   "mimetype": "text/x-python",
   "name": "python",
   "nbconvert_exporter": "python",
   "pygments_lexer": "ipython3",
   "version": "3.10.12"
  }
 },
 "nbformat": 4,
 "nbformat_minor": 2
}
