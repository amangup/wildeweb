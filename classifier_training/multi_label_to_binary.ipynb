{
 "cells": [
  {
   "cell_type": "code",
   "id": "initial_id",
   "metadata": {
    "collapsed": true,
    "ExecuteTime": {
     "end_time": "2025-03-18T00:00:25.235456Z",
     "start_time": "2025-03-18T00:00:24.825398Z"
    }
   },
   "source": "from datasets import load_dataset",
   "outputs": [],
   "execution_count": 1
  },
  {
   "metadata": {
    "ExecuteTime": {
     "end_time": "2025-03-18T00:00:39.781593Z",
     "start_time": "2025-03-18T00:00:37.963546Z"
    }
   },
   "cell_type": "code",
   "source": "dataset = load_dataset('amang1802/wildeweb_cls_labels_v1')",
   "id": "7a41ee45a37bd3c5",
   "outputs": [],
   "execution_count": 2
  },
  {
   "metadata": {
    "ExecuteTime": {
     "end_time": "2025-03-18T00:03:42.102373Z",
     "start_time": "2025-03-18T00:03:42.100756Z"
    }
   },
   "cell_type": "code",
   "source": [
    "def label_to_binary(row):\n",
    "    if row['label'] in {0, 1, 2}:\n",
    "        return {\"binary_label\": 0}\n",
    "    else:\n",
    "        return {\"binary_label\": 1}\n",
    "\n"
   ],
   "id": "7649cbdb48e14997",
   "outputs": [],
   "execution_count": 5
  },
  {
   "metadata": {
    "ExecuteTime": {
     "end_time": "2025-03-18T00:03:48.598801Z",
     "start_time": "2025-03-18T00:03:42.948361Z"
    }
   },
   "cell_type": "code",
   "source": "binary_dataset = dataset.map(label_to_binary)",
   "id": "f56d7a6c3ed6a740",
   "outputs": [
    {
     "data": {
      "text/plain": [
       "Map:   0%|          | 0/72552 [00:00<?, ? examples/s]"
      ],
      "application/vnd.jupyter.widget-view+json": {
       "version_major": 2,
       "version_minor": 0,
       "model_id": "edd417291a7d41c2abca1a813d71b3da"
      }
     },
     "metadata": {},
     "output_type": "display_data"
    },
    {
     "data": {
      "text/plain": [
       "Map:   0%|          | 0/18138 [00:00<?, ? examples/s]"
      ],
      "application/vnd.jupyter.widget-view+json": {
       "version_major": 2,
       "version_minor": 0,
       "model_id": "aa1a219606c14a9da66ca92fcd1fe46e"
      }
     },
     "metadata": {},
     "output_type": "display_data"
    }
   ],
   "execution_count": 6
  },
  {
   "metadata": {
    "ExecuteTime": {
     "end_time": "2025-03-18T00:04:32.293734Z",
     "start_time": "2025-03-18T00:04:32.291145Z"
    }
   },
   "cell_type": "code",
   "source": "binary_dataset['train']",
   "id": "c16798f1cb605ac6",
   "outputs": [
    {
     "data": {
      "text/plain": [
       "Dataset({\n",
       "    features: ['text', 'id', 'dump', 'url', 'file_path', 'language', 'language_score', 'token_count', 'score', 'int_score', 'justification', 'classification_score', 'label', '__index_level_0__', 'binary_label'],\n",
       "    num_rows: 72552\n",
       "})"
      ]
     },
     "execution_count": 10,
     "metadata": {},
     "output_type": "execute_result"
    }
   ],
   "execution_count": 10
  },
  {
   "metadata": {
    "ExecuteTime": {
     "end_time": "2025-03-18T00:05:37.983640Z",
     "start_time": "2025-03-18T00:05:21.362663Z"
    }
   },
   "cell_type": "code",
   "source": "binary_dataset.push_to_hub('amang1802/wildeweb_cls_labels_v1')",
   "id": "4a7ed1ed318a77b0",
   "outputs": [
    {
     "data": {
      "text/plain": [
       "Uploading the dataset shards:   0%|          | 0/2 [00:00<?, ?it/s]"
      ],
      "application/vnd.jupyter.widget-view+json": {
       "version_major": 2,
       "version_minor": 0,
       "model_id": "42900646114e4bd89da9af3908963dd8"
      }
     },
     "metadata": {},
     "output_type": "display_data"
    },
    {
     "data": {
      "text/plain": [
       "Creating parquet from Arrow format:   0%|          | 0/37 [00:00<?, ?ba/s]"
      ],
      "application/vnd.jupyter.widget-view+json": {
       "version_major": 2,
       "version_minor": 0,
       "model_id": "06105c3ad35242109cac169ee6ca6c89"
      }
     },
     "metadata": {},
     "output_type": "display_data"
    },
    {
     "data": {
      "text/plain": [
       "Creating parquet from Arrow format:   0%|          | 0/37 [00:00<?, ?ba/s]"
      ],
      "application/vnd.jupyter.widget-view+json": {
       "version_major": 2,
       "version_minor": 0,
       "model_id": "56d92d11d5b94e3a9bea53abc58e4ac6"
      }
     },
     "metadata": {},
     "output_type": "display_data"
    },
    {
     "data": {
      "text/plain": [
       "Uploading the dataset shards:   0%|          | 0/1 [00:00<?, ?it/s]"
      ],
      "application/vnd.jupyter.widget-view+json": {
       "version_major": 2,
       "version_minor": 0,
       "model_id": "853452c443e046e29d99bcf823b1a55f"
      }
     },
     "metadata": {},
     "output_type": "display_data"
    },
    {
     "data": {
      "text/plain": [
       "Creating parquet from Arrow format:   0%|          | 0/19 [00:00<?, ?ba/s]"
      ],
      "application/vnd.jupyter.widget-view+json": {
       "version_major": 2,
       "version_minor": 0,
       "model_id": "46887913d14a43d9b1b90bf1566ad1e7"
      }
     },
     "metadata": {},
     "output_type": "display_data"
    },
    {
     "data": {
      "text/plain": [
       "CommitInfo(commit_url='https://huggingface.co/datasets/amang1802/wildeweb_cls_labels_v1/commit/c3d653ce83fdac5e03bfc2e399d5b5fd096e6c12', commit_message='Upload dataset', commit_description='', oid='c3d653ce83fdac5e03bfc2e399d5b5fd096e6c12', pr_url=None, repo_url=RepoUrl('https://huggingface.co/datasets/amang1802/wildeweb_cls_labels_v1', endpoint='https://huggingface.co', repo_type='dataset', repo_id='amang1802/wildeweb_cls_labels_v1'), pr_revision=None, pr_num=None)"
      ]
     },
     "execution_count": 11,
     "metadata": {},
     "output_type": "execute_result"
    }
   ],
   "execution_count": 11
  },
  {
   "metadata": {},
   "cell_type": "code",
   "outputs": [],
   "execution_count": null,
   "source": "",
   "id": "dad5ee4b3d0b79e1"
  }
 ],
 "metadata": {
  "kernelspec": {
   "display_name": "Python 3",
   "language": "python",
   "name": "python3"
  },
  "language_info": {
   "codemirror_mode": {
    "name": "ipython",
    "version": 2
   },
   "file_extension": ".py",
   "mimetype": "text/x-python",
   "name": "python",
   "nbconvert_exporter": "python",
   "pygments_lexer": "ipython2",
   "version": "2.7.6"
  }
 },
 "nbformat": 4,
 "nbformat_minor": 5
}
