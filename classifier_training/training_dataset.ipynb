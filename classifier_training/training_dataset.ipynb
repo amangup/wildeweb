{
 "cells": [
  {
   "cell_type": "code",
   "execution_count": 9,
   "metadata": {},
   "outputs": [],
   "source": [
    "from datasets import load_dataset, Dataset\n",
    "import pandas as pd"
   ]
  },
  {
   "cell_type": "code",
   "execution_count": 6,
   "metadata": {},
   "outputs": [],
   "source": [
    "def even_sampling(dataset):\n",
    "    df = pd.DataFrame(dataset)\n",
    "\n",
    "    # Get count of the least represented label\n",
    "    label_counts = df['label'].value_counts()\n",
    "    min_count = label_counts.min()\n",
    "\n",
    "    # Create balanced dataset by sampling equal numbers from each label\n",
    "    balanced_df = pd.DataFrame()\n",
    "    for label in range(len(label_counts)):\n",
    "        label_subset = df[df['label'] == label].sample(min_count, random_state=42)\n",
    "        balanced_df = pd.concat([balanced_df, label_subset])\n",
    "\n",
    "    print(f\"Original distribution: {label_counts}\")\n",
    "    print(f\"New distribution: {balanced_df['label'].value_counts()}\")\n",
    "\n",
    "    # Convert back to Huggingface dataset\n",
    "    balanced_dataset = Dataset.from_pandas(balanced_df).shuffle(seed=42)\n",
    "\n",
    "    return balanced_dataset"
   ]
  },
  {
   "cell_type": "code",
   "execution_count": 7,
   "metadata": {},
   "outputs": [],
   "source": [
    "DATASET_NAME = \"amang1802/wildeweb_cls_1M\""
   ]
  },
  {
   "cell_type": "code",
   "execution_count": 13,
   "metadata": {},
   "outputs": [
    {
     "name": "stdout",
     "output_type": "stream",
     "text": [
      "Original distribution: label\n",
      "0    856617\n",
      "1     71438\n",
      "2     33667\n",
      "3     20140\n",
      "4     18138\n",
      "Name: count, dtype: int64\n",
      "New distribution: label\n",
      "0    18138\n",
      "1    18138\n",
      "2    18138\n",
      "3    18138\n",
      "4    18138\n",
      "Name: count, dtype: int64\n"
     ]
    }
   ],
   "source": [
    "dataset = load_dataset(DATASET_NAME)['train'].select(range(1000_000))\n",
    "dataset = dataset.map(lambda score: {\"label\": max(0, score-1)}, input_columns=[\"classification_score\"])\n",
    "dataset = even_sampling(dataset)\n",
    "split_dataset = dataset.train_test_split(test_size=0.2)"
   ]
  },
  {
   "cell_type": "code",
   "execution_count": 15,
   "metadata": {},
   "outputs": [
    {
     "name": "stderr",
     "output_type": "stream",
     "text": [
      "Creating parquet from Arrow format: 100%|██████████| 37/37 [00:03<00:00,  9.99ba/s]\n",
      "Creating parquet from Arrow format: 100%|██████████| 37/37 [00:03<00:00, 10.27ba/s]\n",
      "Uploading the dataset shards: 100%|██████████| 2/2 [00:15<00:00,  7.78s/it]\n",
      "Creating parquet from Arrow format: 100%|██████████| 19/19 [00:01<00:00, 10.66ba/s]\n",
      "Uploading the dataset shards: 100%|██████████| 1/1 [00:06<00:00,  6.39s/it]\n"
     ]
    },
    {
     "data": {
      "text/plain": [
       "CommitInfo(commit_url='https://huggingface.co/datasets/amang1802/wildeweb_cls_labels_v1/commit/75019e3f76d5f472dd5a8ab5acbde41c06a6490f', commit_message='Upload dataset', commit_description='', oid='75019e3f76d5f472dd5a8ab5acbde41c06a6490f', pr_url=None, repo_url=RepoUrl('https://huggingface.co/datasets/amang1802/wildeweb_cls_labels_v1', endpoint='https://huggingface.co', repo_type='dataset', repo_id='amang1802/wildeweb_cls_labels_v1'), pr_revision=None, pr_num=None)"
      ]
     },
     "execution_count": 15,
     "metadata": {},
     "output_type": "execute_result"
    }
   ],
   "source": [
    "split_dataset.push_to_hub(\"amang1802/wildeweb_cls_labels_v1\")"
   ]
  },
  {
   "cell_type": "code",
   "execution_count": null,
   "metadata": {},
   "outputs": [],
   "source": []
  }
 ],
 "metadata": {
  "kernelspec": {
   "display_name": "Python 3",
   "language": "python",
   "name": "python3"
  },
  "language_info": {
   "codemirror_mode": {
    "name": "ipython",
    "version": 3
   },
   "file_extension": ".py",
   "mimetype": "text/x-python",
   "name": "python",
   "nbconvert_exporter": "python",
   "pygments_lexer": "ipython3",
   "version": "3.10.12"
  }
 },
 "nbformat": 4,
 "nbformat_minor": 2
}
