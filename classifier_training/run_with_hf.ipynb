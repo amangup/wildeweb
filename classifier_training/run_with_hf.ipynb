{
 "cells": [
  {
   "cell_type": "code",
   "execution_count": 1,
   "metadata": {},
   "outputs": [
    {
     "name": "stderr",
     "output_type": "stream",
     "text": [
      "/usr/local/lib/python3.10/dist-packages/tqdm/auto.py:21: TqdmWarning: IProgress not found. Please update jupyter and ipywidgets. See https://ipywidgets.readthedocs.io/en/stable/user_install.html\n",
      "  from .autonotebook import tqdm as notebook_tqdm\n"
     ]
    }
   ],
   "source": [
    "from transformers import AutoModelForSequenceClassification, BertTokenizer\n",
    "\n",
    "import torch"
   ]
  },
  {
   "cell_type": "code",
   "execution_count": 2,
   "metadata": {},
   "outputs": [],
   "source": [
    "device=torch.device(\"cuda:1\")"
   ]
  },
  {
   "cell_type": "code",
   "execution_count": 3,
   "metadata": {},
   "outputs": [],
   "source": [
    "tokenizer = BertTokenizer.from_pretrained('bert-base-uncased')"
   ]
  },
  {
   "cell_type": "code",
   "execution_count": 4,
   "metadata": {},
   "outputs": [
    {
     "name": "stderr",
     "output_type": "stream",
     "text": [
      "Some weights of the model checkpoint at bert_base-20250228-002924/checkpoint-142 were not used when initializing BertForSequenceClassification: ['score.bias', 'score.weight']\n",
      "- This IS expected if you are initializing BertForSequenceClassification from the checkpoint of a model trained on another task or with another architecture (e.g. initializing a BertForSequenceClassification model from a BertForPreTraining model).\n",
      "- This IS NOT expected if you are initializing BertForSequenceClassification from the checkpoint of a model that you expect to be exactly identical (initializing a BertForSequenceClassification model from a BertForSequenceClassification model).\n"
     ]
    }
   ],
   "source": [
    "model = AutoModelForSequenceClassification.from_pretrained(\"bert_base-20250228-002924/checkpoint-142\", num_labels=5, torch_dtype=\"auto\").to(device)"
   ]
  },
  {
   "cell_type": "code",
   "execution_count": 5,
   "metadata": {},
   "outputs": [],
   "source": [
    "text = text = \"\"\"We Can End Domestic Abuse\n",
    "If your friend or loved one is experiencing domestic violence or is a survivor, there are many ways you can help to support them.\n",
    "Do respect what she wants to do.\n",
    "Every step is up to her.\n",
    "Do share resources with your friend or loved one.\n",
    "Professionals who work at shelters and on hotlines can help. You can’t do it all alone!\n",
    "Do offer your unconditional understanding and support.\n",
    "Start by helping them feel good about themselves. Emphasize their strengths.\n",
    "Do be clear that you are there to listen, and not to judge.\n",
    "There is an important balance between expressing concern and telling someone what to do. Encourage them to express their feelings and make their own decisions.\n",
    "Do tell her it's not her/his fault.\n",
    "Stress that she doesn’t deserve the abuse and that abuse is NEVER okay. Remind them often that you’re there for support whenever necessary.\n",
    "Do identify the unhealthy behaviors.\n",
    "Keep track of things you have noticed about the relationship and the abuser. Identify the changes you have seen in your loved one's behavior.\n",
    "Do acknowledge the scariness of domestic violence.\n",
    "It is scary and difficult to talk about interpersonal violence. Be prepared with good information.\n",
    "Do encourage your loved one to build a support system.\n",
    "A good support system includes the safe and healthy people in her life.\n",
    "Don't spread gossip.\n",
    "Gossip can put a victim in danger if it gets back to the abuser, so think before you speak. Your friend or loved one has taken a big step in coming to you—it is critical that they can trust you with confidential information.\n",
    "Don't blame your friend or loved one for the abuse.\n",
    "The victim should never feel as though the abuse is her fault.\n",
    "Don't make them do something.\n",
    "Don't force her to do something she is uncomfortable doing. They can make their own decisions. Don't try to end the relationship for them.\n",
    "Don't criticize your loved one or her partner.\n",
    "Even if you disagree with her choices. This may isolate them even more by making them feel that no one approves, or that they have to hide their relationship.\"\"\".strip()"
   ]
  },
  {
   "cell_type": "code",
   "execution_count": 6,
   "metadata": {},
   "outputs": [],
   "source": [
    "text2 = \"\"\"General relativity, also known as the general theory of relativity, and as Einstein's theory of gravity, is the geometric theory of gravitation published by Albert Einstein in 1915 and is the current description of gravitation in modern physics. General relativity generalizes special relativity and refines Newton's law of universal gravitation, providing a unified description of gravity as a geometric property of space and time, or four-dimensional spacetime. In particular, the curvature of spacetime is directly related to the energy and momentum of whatever is present, including matter and radiation. The relation is specified by the Einstein field equations, a system of second-order partial differential equations.\"\"\".strip()"
   ]
  },
  {
   "cell_type": "code",
   "execution_count": 9,
   "metadata": {},
   "outputs": [
    {
     "data": {
      "text/plain": [
       "SequenceClassifierOutput(loss=None, logits=tensor([[ 0.1049,  0.9859,  0.0567, -0.8367, -0.9360]], device='cuda:1'), hidden_states=None, attentions=None)"
      ]
     },
     "execution_count": 9,
     "metadata": {},
     "output_type": "execute_result"
    }
   ],
   "source": [
    "encoded_input = tokenizer(text, return_tensors='pt', max_length=512, truncation=True).to(device)\n",
    "with torch.no_grad():\n",
    "    output = model(**encoded_input)\n",
    "output"
   ]
  },
  {
   "cell_type": "code",
   "execution_count": 10,
   "metadata": {},
   "outputs": [
    {
     "data": {
      "text/plain": [
       "SequenceClassifierOutput(loss=None, logits=tensor([[ 3.1070,  0.5374, -1.0340, -1.5395, -1.8407]], device='cuda:1'), hidden_states=None, attentions=None)"
      ]
     },
     "execution_count": 10,
     "metadata": {},
     "output_type": "execute_result"
    }
   ],
   "source": [
    "encoded_input = tokenizer(text2, return_tensors='pt', max_length=512, truncation=True).to(device)\n",
    "with torch.no_grad():\n",
    "    output = model(**encoded_input)\n",
    "output"
   ]
  },
  {
   "cell_type": "code",
   "execution_count": null,
   "metadata": {},
   "outputs": [],
   "source": []
  }
 ],
 "metadata": {
  "kernelspec": {
   "display_name": "Python 3",
   "language": "python",
   "name": "python3"
  },
  "language_info": {
   "codemirror_mode": {
    "name": "ipython",
    "version": 3
   },
   "file_extension": ".py",
   "mimetype": "text/x-python",
   "name": "python",
   "nbconvert_exporter": "python",
   "pygments_lexer": "ipython3",
   "version": "3.10.12"
  }
 },
 "nbformat": 4,
 "nbformat_minor": 2
}
