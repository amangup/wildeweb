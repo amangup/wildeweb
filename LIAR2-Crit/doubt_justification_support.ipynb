{
 "cells": [
  {
   "cell_type": "code",
   "execution_count": 1,
   "id": "f987aca1-0611-4061-ac54-3a1c221d4df6",
   "metadata": {},
   "outputs": [],
   "source": [
    "import os\n",
    "os.environ[\"CUDA_VISIBLE_DEVICES\"]=\"4\""
   ]
  },
  {
   "cell_type": "code",
   "execution_count": null,
   "id": "d2ec437e-2f33-41a5-a955-25e5a87144c6",
   "metadata": {},
   "outputs": [],
   "source": [
    "from datasets import load_dataset\n",
    "from minicheck.minicheck import MiniCheck"
   ]
  },
  {
   "cell_type": "code",
   "execution_count": 3,
   "id": "67b2bfd4-bc7d-41cb-9b73-a03aa980621d",
   "metadata": {},
   "outputs": [],
   "source": [
    "doc = \"\\\"Universal\\\" is the term for background checks to be done on every gun sale. We found support for that policy at 94 percent in the latest national poll. Support ranged between 84 percent and 89 percent in the four other most recent polls. Experts say support at or near 90 percent has been consistent for years.\"\n",
    "claim_1 = \"The question of what constitutes 'universal background checks' is ambiguous and could be interpreted in many ways.\"\n",
    "claim_2 = \"The phrasing of the statement implies a high level of support, but does it account for the nuances of public opinion?\"\n",
    "claim_3 = \"The 90% figure may be based on outdated data or a specific survey with methodological flaws.\"\n",
    "claim_4 = \"Is the statement referring to a specific type of gun purchase, such as private sales or online transactions?\"\n",
    "claim_5 = \"The statement may be based on a poll with a small sample size or biased sampling methodology.\"\n",
    "claim_6 = \"Does the statement account for the fact that public opinion on gun control can be influenced by current events?\""
   ]
  },
  {
   "cell_type": "code",
   "execution_count": 6,
   "id": "13838ae0-a257-4f04-b8a9-3d7d7ad4a2c9",
   "metadata": {},
   "outputs": [],
   "source": [
    "doc = \"Sen. Thom Tillis, a North Carolina Republican, said a new pro-police law is needed because 2016 \\\"was one of the deadliest years ever for law enforcement officers.\\\" That’s . In fact, 2016 saw a below-average number and rate of officer deaths compared to the last half-century. The 66 officers killed in 2016 pales in comparison to the 1970s and 1980s, and wasn’t much different from the typical year in the 1990s, either.\"\n",
    "claim_1 = \"The statement might be an exaggeration to garner support for the Back The Blue Act, which could be seen as an attempt to increase police powers and reduce accountability.\"\n",
    "claim_2 = \"There could be alternative explanations for the increase in fatalities, such as changes in reporting or an increase in the number of officers on the job, rather than an actual increase in danger.\"\n",
    "claim_3 = \"The statement might be based on incomplete or misleading data, such as only counting fatal shootings of officers rather than all types of fatalities.\"\n",
    "claim_4 = \"The statement could be an attempt to create a false narrative that law enforcement is under attack, when in reality the number of fatalities is within a normal range.\"\n",
    "claim_5 = \"The statement might be a way to distract from other issues, such as police brutality or systemic racism, by focusing on a perceived threat to law enforcement.\""
   ]
  },
  {
   "cell_type": "code",
   "execution_count": 7,
   "id": "de53206c-2349-4410-8c40-a0f1ac5ab549",
   "metadata": {},
   "outputs": [
    {
     "name": "stderr",
     "output_type": "stream",
     "text": [
      "Processed prompts: 100% 5/5 [00:00<00:00, 32.82it/s, est. speed input: 7354.95 toks/s, output: 32.83 toks/s]\n"
     ]
    },
    {
     "data": {
      "text/plain": [
       "([0, 0, 0, 1, 0],\n",
       " [0.3484181134191382,\n",
       "  0.3485090031425817,\n",
       "  0.3773589985583432,\n",
       "  0.8173612595217454,\n",
       "  0.4997588968043567])"
      ]
     },
     "execution_count": 7,
     "metadata": {},
     "output_type": "execute_result"
    }
   ],
   "source": [
    "pred_label, raw_prob, _, _ = scorer.score(docs=[doc]*5, claims=[claim_1, claim_2, claim_3, claim_4, claim_5], chunk_size=1024)\n",
    "pred_label, raw_prob"
   ]
  },
  {
   "cell_type": "code",
   "execution_count": null,
   "id": "abdccb68-c303-4163-a16b-a1acd7ef9e71",
   "metadata": {},
   "outputs": [],
   "source": []
  }
 ],
 "metadata": {
  "kernelspec": {
   "display_name": "Python 3 (ipykernel)",
   "language": "python",
   "name": "python3"
  },
  "language_info": {
   "codemirror_mode": {
    "name": "ipython",
    "version": 3
   },
   "file_extension": ".py",
   "mimetype": "text/x-python",
   "name": "python",
   "nbconvert_exporter": "python",
   "pygments_lexer": "ipython3",
   "version": "3.10.12"
  }
 },
 "nbformat": 4,
 "nbformat_minor": 5
}
